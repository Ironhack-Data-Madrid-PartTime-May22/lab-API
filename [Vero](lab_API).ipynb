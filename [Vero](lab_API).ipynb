{
 "cells": [
  {
   "cell_type": "code",
   "execution_count": 18,
   "id": "752c9afc",
   "metadata": {},
   "outputs": [],
   "source": [
    "import pandas as pd # manipulacion de  datos mediante dataframes\n",
    "pd.options.display.max_columns = None # para que se muestren todas las columnas\n",
    "\n",
    "import requests # para hacer peticiones a la web y obtener datos \n",
    "\n",
    "import os  # para acceder a las variables de entorno del sistema operativo \n",
    "from dotenv import load_dotenv # para cargar las variables de entorno desde el fichero .env \n",
    "import numpy.ma.mrecords as mrecords\n"
   ]
  },
  {
   "cell_type": "code",
   "execution_count": 2,
   "id": "d24c2f7b",
   "metadata": {},
   "outputs": [
    {
     "name": "stdout",
     "output_type": "stream",
     "text": [
      "Requirement already satisfied: python-dotenv in /Users/veronicamoncada/anaconda3/lib/python3.10/site-packages (1.0.0)\r\n"
     ]
    }
   ],
   "source": [
    "!pip install python-dotenv"
   ]
  },
  {
   "cell_type": "code",
   "execution_count": 3,
   "id": "d2ad5f2c",
   "metadata": {},
   "outputs": [
    {
     "data": {
      "text/plain": [
       "False"
      ]
     },
     "execution_count": 3,
     "metadata": {},
     "output_type": "execute_result"
    }
   ],
   "source": [
    "load_dotenv()"
   ]
  },
  {
   "cell_type": "code",
   "execution_count": 6,
   "id": "716adbe6",
   "metadata": {},
   "outputs": [],
   "source": [
    "def get_api(url):\n",
    "\n",
    "    res = requests.get(url) \n",
    "    if res.status_code == 200: \n",
    "        return res.json() \n",
    "    else: \n",
    "        return f\"Error {res.status_code}\""
   ]
  },
  {
   "cell_type": "code",
   "execution_count": 28,
   "id": "a20ffd74",
   "metadata": {},
   "outputs": [
    {
     "data": {
      "text/plain": [
       "dict_keys(['summaryStats', 'cache', 'dataSource', 'apiSourceCode', 'rawData'])"
      ]
     },
     "execution_count": 28,
     "metadata": {},
     "output_type": "execute_result"
    }
   ],
   "source": [
    "url = 'https://coronavirus.m.pipedream.net/'\n",
    "\n",
    "res_api = get_api(url)\n",
    "res_api.keys()"
   ]
  },
  {
   "cell_type": "code",
   "execution_count": null,
   "id": "7c7e30b3",
   "metadata": {},
   "outputs": [],
   "source": []
  },
  {
   "cell_type": "code",
   "execution_count": 29,
   "id": "abd34930",
   "metadata": {},
   "outputs": [
    {
     "data": {
      "text/plain": [
       "{'global': {'confirmed': 676570149, 'recovered': None, 'deaths': 6881804},\n",
       " 'china': {'confirmed': 0, 'recovered': 0, 'deaths': 0},\n",
       " 'nonChina': {'confirmed': 676570149, 'recovered': None, 'deaths': 6881804}}"
      ]
     },
     "execution_count": 29,
     "metadata": {},
     "output_type": "execute_result"
    }
   ],
   "source": [
    "titulo = res_api['summaryStats']\n",
    "titulo"
   ]
  },
  {
   "cell_type": "code",
   "execution_count": 31,
   "id": "bf82688a",
   "metadata": {},
   "outputs": [],
   "source": [
    "df = pd.DataFrame(titulo)"
   ]
  },
  {
   "cell_type": "code",
   "execution_count": 32,
   "id": "8ac8c384",
   "metadata": {},
   "outputs": [
    {
     "data": {
      "text/html": [
       "<div>\n",
       "<style scoped>\n",
       "    .dataframe tbody tr th:only-of-type {\n",
       "        vertical-align: middle;\n",
       "    }\n",
       "\n",
       "    .dataframe tbody tr th {\n",
       "        vertical-align: top;\n",
       "    }\n",
       "\n",
       "    .dataframe thead th {\n",
       "        text-align: right;\n",
       "    }\n",
       "</style>\n",
       "<table border=\"1\" class=\"dataframe\">\n",
       "  <thead>\n",
       "    <tr style=\"text-align: right;\">\n",
       "      <th></th>\n",
       "      <th>global</th>\n",
       "      <th>china</th>\n",
       "      <th>nonChina</th>\n",
       "    </tr>\n",
       "  </thead>\n",
       "  <tbody>\n",
       "    <tr>\n",
       "      <th>confirmed</th>\n",
       "      <td>676570149.0</td>\n",
       "      <td>0</td>\n",
       "      <td>676570149.0</td>\n",
       "    </tr>\n",
       "    <tr>\n",
       "      <th>recovered</th>\n",
       "      <td>NaN</td>\n",
       "      <td>0</td>\n",
       "      <td>NaN</td>\n",
       "    </tr>\n",
       "    <tr>\n",
       "      <th>deaths</th>\n",
       "      <td>6881804.0</td>\n",
       "      <td>0</td>\n",
       "      <td>6881804.0</td>\n",
       "    </tr>\n",
       "  </tbody>\n",
       "</table>\n",
       "</div>"
      ],
      "text/plain": [
       "                global  china     nonChina\n",
       "confirmed  676570149.0      0  676570149.0\n",
       "recovered          NaN      0          NaN\n",
       "deaths       6881804.0      0    6881804.0"
      ]
     },
     "execution_count": 32,
     "metadata": {},
     "output_type": "execute_result"
    }
   ],
   "source": [
    "df"
   ]
  },
  {
   "cell_type": "code",
   "execution_count": null,
   "id": "1a15fe8e",
   "metadata": {},
   "outputs": [],
   "source": []
  },
  {
   "cell_type": "code",
   "execution_count": null,
   "id": "f0ecc184",
   "metadata": {},
   "outputs": [],
   "source": []
  },
  {
   "cell_type": "code",
   "execution_count": null,
   "id": "43dd2cc2",
   "metadata": {},
   "outputs": [],
   "source": []
  },
  {
   "cell_type": "code",
   "execution_count": null,
   "id": "e1065e6c",
   "metadata": {},
   "outputs": [],
   "source": []
  },
  {
   "cell_type": "code",
   "execution_count": null,
   "id": "98cc21b4",
   "metadata": {},
   "outputs": [],
   "source": []
  },
  {
   "cell_type": "code",
   "execution_count": null,
   "id": "bb6ed264",
   "metadata": {},
   "outputs": [],
   "source": []
  },
  {
   "cell_type": "code",
   "execution_count": null,
   "id": "c071dcbb",
   "metadata": {},
   "outputs": [],
   "source": []
  },
  {
   "cell_type": "code",
   "execution_count": null,
   "id": "19f46b6d",
   "metadata": {},
   "outputs": [],
   "source": []
  },
  {
   "cell_type": "code",
   "execution_count": null,
   "id": "d215ac19",
   "metadata": {},
   "outputs": [],
   "source": []
  },
  {
   "cell_type": "code",
   "execution_count": null,
   "id": "21c0ed5b",
   "metadata": {},
   "outputs": [],
   "source": []
  },
  {
   "cell_type": "code",
   "execution_count": null,
   "id": "cab3c01e",
   "metadata": {},
   "outputs": [],
   "source": []
  }
 ],
 "metadata": {
  "kernelspec": {
   "display_name": "Python 3 (ipykernel)",
   "language": "python",
   "name": "python3"
  },
  "language_info": {
   "codemirror_mode": {
    "name": "ipython",
    "version": 3
   },
   "file_extension": ".py",
   "mimetype": "text/x-python",
   "name": "python",
   "nbconvert_exporter": "python",
   "pygments_lexer": "ipython3",
   "version": "3.10.9"
  }
 },
 "nbformat": 4,
 "nbformat_minor": 5
}
